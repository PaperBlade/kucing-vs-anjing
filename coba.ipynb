{
  "nbformat": 4,
  "nbformat_minor": 0,
  "metadata": {
    "colab": {
      "provenance": [],
      "authorship_tag": "ABX9TyNDY/4mlp1C5b/wbgH1F2y1",
      "include_colab_link": true
    },
    "kernelspec": {
      "name": "python3",
      "display_name": "Python 3"
    },
    "language_info": {
      "name": "python"
    },
    "accelerator": "GPU",
    "gpuClass": "standard"
  },
  "cells": [
    {
      "cell_type": "markdown",
      "metadata": {
        "id": "view-in-github",
        "colab_type": "text"
      },
      "source": [
        "<a href=\"https://colab.research.google.com/github/PaperBlade/kucing-vs-anjing/blob/main/coba.ipynb\" target=\"_parent\"><img src=\"https://colab.research.google.com/assets/colab-badge.svg\" alt=\"Open In Colab\"/></a>"
      ]
    },
    {
      "cell_type": "code",
      "execution_count": null,
      "metadata": {
        "colab": {
          "base_uri": "https://localhost:8080/"
        },
        "id": "uzRGjXopxwis",
        "outputId": "815b6a73-3407-48a8-fde1-60002ca091f1"
      },
      "outputs": [
        {
          "output_type": "stream",
          "name": "stdout",
          "text": [
            "Tue Sep 13 03:00:05 2022       \n",
            "+-----------------------------------------------------------------------------+\n",
            "| NVIDIA-SMI 460.32.03    Driver Version: 460.32.03    CUDA Version: 11.2     |\n",
            "|-------------------------------+----------------------+----------------------+\n",
            "| GPU  Name        Persistence-M| Bus-Id        Disp.A | Volatile Uncorr. ECC |\n",
            "| Fan  Temp  Perf  Pwr:Usage/Cap|         Memory-Usage | GPU-Util  Compute M. |\n",
            "|                               |                      |               MIG M. |\n",
            "|===============================+======================+======================|\n",
            "|   0  Tesla T4            Off  | 00000000:00:04.0 Off |                    0 |\n",
            "| N/A   66C    P0    31W /  70W |    284MiB / 15109MiB |      0%      Default |\n",
            "|                               |                      |                  N/A |\n",
            "+-------------------------------+----------------------+----------------------+\n",
            "                                                                               \n",
            "+-----------------------------------------------------------------------------+\n",
            "| Processes:                                                                  |\n",
            "|  GPU   GI   CI        PID   Type   Process name                  GPU Memory |\n",
            "|        ID   ID                                                   Usage      |\n",
            "|=============================================================================|\n",
            "+-----------------------------------------------------------------------------+\n"
          ]
        }
      ],
      "source": [
        "!nvidia-smi"
      ]
    },
    {
      "cell_type": "code",
      "source": [
        "import tensorflow as tf\n",
        "tf.test.gpu_device_name()"
      ],
      "metadata": {
        "colab": {
          "base_uri": "https://localhost:8080/",
          "height": 35
        },
        "id": "nD4V73OKxz7X",
        "outputId": "42b8404a-396b-4b70-cbc4-c9f6aecf72f9"
      },
      "execution_count": null,
      "outputs": [
        {
          "output_type": "execute_result",
          "data": {
            "text/plain": [
              "'/device:GPU:0'"
            ],
            "application/vnd.google.colaboratory.intrinsic+json": {
              "type": "string"
            }
          },
          "metadata": {},
          "execution_count": 1
        }
      ]
    },
    {
      "cell_type": "code",
      "source": [
        "# first neural network with keras tutorial\n",
        "from numpy import loadtxt\n",
        "from tensorflow.keras.models import Sequential\n",
        "from tensorflow.keras.layers import Dense"
      ],
      "metadata": {
        "id": "73iEF0oiy65R"
      },
      "execution_count": null,
      "outputs": []
    },
    {
      "cell_type": "code",
      "source": [
        "\n",
        "# load the dataset\n",
        "dataset = loadtxt('/content/pima-indians-diabetes.data.csv', delimiter=',')\n",
        "# split into input (X) and output (y) variables\n",
        "X = dataset[:,0:8]\n",
        "y = dataset[:,8]\n"
      ],
      "metadata": {
        "id": "2xAVECDKzDbF"
      },
      "execution_count": null,
      "outputs": []
    },
    {
      "cell_type": "code",
      "source": [
        "# define the keras model\n",
        "model = Sequential()\n",
        "model.add(Dense(12, input_shape=(8,), activation='relu'))\n",
        "model.add(Dense(8, activation='relu'))\n",
        "model.add(Dense(1, activation='sigmoid'))"
      ],
      "metadata": {
        "id": "TERliCMuzNta"
      },
      "execution_count": null,
      "outputs": []
    },
    {
      "cell_type": "code",
      "source": [
        "# compile the keras model\n",
        "model.compile(loss='binary_crossentropy', optimizer='adam', metrics=['accuracy'])"
      ],
      "metadata": {
        "id": "WorX0VL1zRdV"
      },
      "execution_count": null,
      "outputs": []
    },
    {
      "cell_type": "code",
      "source": [
        "# fit the keras model on the dataset\n",
        "model.fit(X, y, epochs=150, batch_size=10)"
      ],
      "metadata": {
        "colab": {
          "base_uri": "https://localhost:8080/"
        },
        "id": "qb5mwvt3zU0F",
        "outputId": "20404ac4-d920-4964-c73a-5c7514f4afd0"
      },
      "execution_count": null,
      "outputs": [
        {
          "output_type": "stream",
          "name": "stdout",
          "text": [
            "Epoch 1/150\n",
            "77/77 [==============================] - 4s 3ms/step - loss: 5.8123 - accuracy: 0.6289\n",
            "Epoch 2/150\n",
            "77/77 [==============================] - 0s 3ms/step - loss: 1.7786 - accuracy: 0.5951\n",
            "Epoch 3/150\n",
            "77/77 [==============================] - 0s 3ms/step - loss: 1.2479 - accuracy: 0.6328\n",
            "Epoch 4/150\n",
            "77/77 [==============================] - 0s 3ms/step - loss: 1.0858 - accuracy: 0.6458\n",
            "Epoch 5/150\n",
            "77/77 [==============================] - 0s 3ms/step - loss: 0.9811 - accuracy: 0.6380\n",
            "Epoch 6/150\n",
            "77/77 [==============================] - 0s 3ms/step - loss: 0.9181 - accuracy: 0.6510\n",
            "Epoch 7/150\n",
            "77/77 [==============================] - 0s 3ms/step - loss: 0.8549 - accuracy: 0.6406\n",
            "Epoch 8/150\n",
            "77/77 [==============================] - 0s 3ms/step - loss: 0.8057 - accuracy: 0.6406\n",
            "Epoch 9/150\n",
            "77/77 [==============================] - 0s 3ms/step - loss: 0.7675 - accuracy: 0.6641\n",
            "Epoch 10/150\n",
            "77/77 [==============================] - 0s 3ms/step - loss: 0.7485 - accuracy: 0.6484\n",
            "Epoch 11/150\n",
            "77/77 [==============================] - 0s 3ms/step - loss: 0.7286 - accuracy: 0.6628\n",
            "Epoch 12/150\n",
            "77/77 [==============================] - 0s 3ms/step - loss: 0.7328 - accuracy: 0.6211\n",
            "Epoch 13/150\n",
            "77/77 [==============================] - 0s 3ms/step - loss: 0.7214 - accuracy: 0.6328\n",
            "Epoch 14/150\n",
            "77/77 [==============================] - 0s 3ms/step - loss: 0.6985 - accuracy: 0.6641\n",
            "Epoch 15/150\n",
            "77/77 [==============================] - 0s 3ms/step - loss: 0.6853 - accuracy: 0.6706\n",
            "Epoch 16/150\n",
            "77/77 [==============================] - 0s 3ms/step - loss: 0.6737 - accuracy: 0.6745\n",
            "Epoch 17/150\n",
            "77/77 [==============================] - 0s 3ms/step - loss: 0.6634 - accuracy: 0.6758\n",
            "Epoch 18/150\n",
            "77/77 [==============================] - 0s 3ms/step - loss: 0.6534 - accuracy: 0.6654\n",
            "Epoch 19/150\n",
            "77/77 [==============================] - 0s 3ms/step - loss: 0.6386 - accuracy: 0.6693\n",
            "Epoch 20/150\n",
            "77/77 [==============================] - 0s 3ms/step - loss: 0.6331 - accuracy: 0.6706\n",
            "Epoch 21/150\n",
            "77/77 [==============================] - 0s 3ms/step - loss: 0.6365 - accuracy: 0.6732\n",
            "Epoch 22/150\n",
            "77/77 [==============================] - 0s 3ms/step - loss: 0.6227 - accuracy: 0.6836\n",
            "Epoch 23/150\n",
            "77/77 [==============================] - 0s 3ms/step - loss: 0.6276 - accuracy: 0.6797\n",
            "Epoch 24/150\n",
            "77/77 [==============================] - 0s 3ms/step - loss: 0.6250 - accuracy: 0.6810\n",
            "Epoch 25/150\n",
            "77/77 [==============================] - 0s 3ms/step - loss: 0.6009 - accuracy: 0.6901\n",
            "Epoch 26/150\n",
            "77/77 [==============================] - 0s 3ms/step - loss: 0.5965 - accuracy: 0.6979\n",
            "Epoch 27/150\n",
            "77/77 [==============================] - 0s 3ms/step - loss: 0.5840 - accuracy: 0.6979\n",
            "Epoch 28/150\n",
            "77/77 [==============================] - 0s 3ms/step - loss: 0.5935 - accuracy: 0.6888\n",
            "Epoch 29/150\n",
            "77/77 [==============================] - 0s 3ms/step - loss: 0.5860 - accuracy: 0.7044\n",
            "Epoch 30/150\n",
            "77/77 [==============================] - 0s 3ms/step - loss: 0.5758 - accuracy: 0.7109\n",
            "Epoch 31/150\n",
            "77/77 [==============================] - 0s 3ms/step - loss: 0.5813 - accuracy: 0.7031\n",
            "Epoch 32/150\n",
            "77/77 [==============================] - 0s 3ms/step - loss: 0.5796 - accuracy: 0.7057\n",
            "Epoch 33/150\n",
            "77/77 [==============================] - 0s 3ms/step - loss: 0.5734 - accuracy: 0.7044\n",
            "Epoch 34/150\n",
            "77/77 [==============================] - 0s 3ms/step - loss: 0.5796 - accuracy: 0.7096\n",
            "Epoch 35/150\n",
            "77/77 [==============================] - 0s 3ms/step - loss: 0.5733 - accuracy: 0.7227\n",
            "Epoch 36/150\n",
            "77/77 [==============================] - 0s 3ms/step - loss: 0.5738 - accuracy: 0.6953\n",
            "Epoch 37/150\n",
            "77/77 [==============================] - 0s 3ms/step - loss: 0.5817 - accuracy: 0.7018\n",
            "Epoch 38/150\n",
            "77/77 [==============================] - 0s 3ms/step - loss: 0.5532 - accuracy: 0.7344\n",
            "Epoch 39/150\n",
            "77/77 [==============================] - 0s 3ms/step - loss: 0.5580 - accuracy: 0.7266\n",
            "Epoch 40/150\n",
            "77/77 [==============================] - 0s 3ms/step - loss: 0.5633 - accuracy: 0.7279\n",
            "Epoch 41/150\n",
            "77/77 [==============================] - 0s 3ms/step - loss: 0.5527 - accuracy: 0.7214\n",
            "Epoch 42/150\n",
            "77/77 [==============================] - 0s 3ms/step - loss: 0.5467 - accuracy: 0.7331\n",
            "Epoch 43/150\n",
            "77/77 [==============================] - 0s 3ms/step - loss: 0.5591 - accuracy: 0.7266\n",
            "Epoch 44/150\n",
            "77/77 [==============================] - 0s 3ms/step - loss: 0.5501 - accuracy: 0.7214\n",
            "Epoch 45/150\n",
            "77/77 [==============================] - 0s 3ms/step - loss: 0.5516 - accuracy: 0.7422\n",
            "Epoch 46/150\n",
            "77/77 [==============================] - 0s 3ms/step - loss: 0.5504 - accuracy: 0.7240\n",
            "Epoch 47/150\n",
            "77/77 [==============================] - 0s 3ms/step - loss: 0.5509 - accuracy: 0.7266\n",
            "Epoch 48/150\n",
            "77/77 [==============================] - 0s 3ms/step - loss: 0.5427 - accuracy: 0.7409\n",
            "Epoch 49/150\n",
            "77/77 [==============================] - 0s 3ms/step - loss: 0.5522 - accuracy: 0.7122\n",
            "Epoch 50/150\n",
            "77/77 [==============================] - 0s 3ms/step - loss: 0.5495 - accuracy: 0.7240\n",
            "Epoch 51/150\n",
            "77/77 [==============================] - 0s 3ms/step - loss: 0.5436 - accuracy: 0.7357\n",
            "Epoch 52/150\n",
            "77/77 [==============================] - 0s 3ms/step - loss: 0.5501 - accuracy: 0.7331\n",
            "Epoch 53/150\n",
            "77/77 [==============================] - 0s 3ms/step - loss: 0.5423 - accuracy: 0.7370\n",
            "Epoch 54/150\n",
            "77/77 [==============================] - 0s 3ms/step - loss: 0.5434 - accuracy: 0.7122\n",
            "Epoch 55/150\n",
            "77/77 [==============================] - 0s 3ms/step - loss: 0.5415 - accuracy: 0.7383\n",
            "Epoch 56/150\n",
            "77/77 [==============================] - 0s 3ms/step - loss: 0.5308 - accuracy: 0.7357\n",
            "Epoch 57/150\n",
            "77/77 [==============================] - 0s 3ms/step - loss: 0.5409 - accuracy: 0.7305\n",
            "Epoch 58/150\n",
            "77/77 [==============================] - 0s 3ms/step - loss: 0.5413 - accuracy: 0.7344\n",
            "Epoch 59/150\n",
            "77/77 [==============================] - 0s 3ms/step - loss: 0.5380 - accuracy: 0.7253\n",
            "Epoch 60/150\n",
            "77/77 [==============================] - 0s 3ms/step - loss: 0.5352 - accuracy: 0.7513\n",
            "Epoch 61/150\n",
            "77/77 [==============================] - 0s 3ms/step - loss: 0.5361 - accuracy: 0.7513\n",
            "Epoch 62/150\n",
            "77/77 [==============================] - 0s 3ms/step - loss: 0.5334 - accuracy: 0.7474\n",
            "Epoch 63/150\n",
            "77/77 [==============================] - 0s 3ms/step - loss: 0.5381 - accuracy: 0.7422\n",
            "Epoch 64/150\n",
            "77/77 [==============================] - 0s 3ms/step - loss: 0.5317 - accuracy: 0.7305\n",
            "Epoch 65/150\n",
            "77/77 [==============================] - 0s 3ms/step - loss: 0.5415 - accuracy: 0.7292\n",
            "Epoch 66/150\n",
            "77/77 [==============================] - 0s 3ms/step - loss: 0.5395 - accuracy: 0.7279\n",
            "Epoch 67/150\n",
            "77/77 [==============================] - 0s 3ms/step - loss: 0.5251 - accuracy: 0.7656\n",
            "Epoch 68/150\n",
            "77/77 [==============================] - 0s 3ms/step - loss: 0.5293 - accuracy: 0.7604\n",
            "Epoch 69/150\n",
            "77/77 [==============================] - 0s 3ms/step - loss: 0.5336 - accuracy: 0.7266\n",
            "Epoch 70/150\n",
            "77/77 [==============================] - 0s 3ms/step - loss: 0.5276 - accuracy: 0.7513\n",
            "Epoch 71/150\n",
            "77/77 [==============================] - 0s 3ms/step - loss: 0.5184 - accuracy: 0.7513\n",
            "Epoch 72/150\n",
            "77/77 [==============================] - 0s 3ms/step - loss: 0.5279 - accuracy: 0.7500\n",
            "Epoch 73/150\n",
            "77/77 [==============================] - 0s 3ms/step - loss: 0.5421 - accuracy: 0.7331\n",
            "Epoch 74/150\n",
            "77/77 [==============================] - 0s 3ms/step - loss: 0.5272 - accuracy: 0.7396\n",
            "Epoch 75/150\n",
            "77/77 [==============================] - 0s 3ms/step - loss: 0.5260 - accuracy: 0.7500\n",
            "Epoch 76/150\n",
            "77/77 [==============================] - 0s 3ms/step - loss: 0.5325 - accuracy: 0.7461\n",
            "Epoch 77/150\n",
            "77/77 [==============================] - 0s 3ms/step - loss: 0.5232 - accuracy: 0.7526\n",
            "Epoch 78/150\n",
            "77/77 [==============================] - 0s 3ms/step - loss: 0.5355 - accuracy: 0.7461\n",
            "Epoch 79/150\n",
            "77/77 [==============================] - 0s 3ms/step - loss: 0.5315 - accuracy: 0.7487\n",
            "Epoch 80/150\n",
            "77/77 [==============================] - 0s 3ms/step - loss: 0.5197 - accuracy: 0.7448\n",
            "Epoch 81/150\n",
            "77/77 [==============================] - 0s 3ms/step - loss: 0.5195 - accuracy: 0.7617\n",
            "Epoch 82/150\n",
            "77/77 [==============================] - 0s 3ms/step - loss: 0.5187 - accuracy: 0.7539\n",
            "Epoch 83/150\n",
            "77/77 [==============================] - 0s 3ms/step - loss: 0.5239 - accuracy: 0.7305\n",
            "Epoch 84/150\n",
            "77/77 [==============================] - 0s 3ms/step - loss: 0.5132 - accuracy: 0.7552\n",
            "Epoch 85/150\n",
            "77/77 [==============================] - 0s 3ms/step - loss: 0.5092 - accuracy: 0.7643\n",
            "Epoch 86/150\n",
            "77/77 [==============================] - 0s 3ms/step - loss: 0.5239 - accuracy: 0.7435\n",
            "Epoch 87/150\n",
            "77/77 [==============================] - 0s 3ms/step - loss: 0.5135 - accuracy: 0.7682\n",
            "Epoch 88/150\n",
            "77/77 [==============================] - 0s 3ms/step - loss: 0.5174 - accuracy: 0.7448\n",
            "Epoch 89/150\n",
            "77/77 [==============================] - 0s 3ms/step - loss: 0.5130 - accuracy: 0.7474\n",
            "Epoch 90/150\n",
            "77/77 [==============================] - 0s 3ms/step - loss: 0.5126 - accuracy: 0.7604\n",
            "Epoch 91/150\n",
            "77/77 [==============================] - 0s 3ms/step - loss: 0.5176 - accuracy: 0.7526\n",
            "Epoch 92/150\n",
            "77/77 [==============================] - 0s 3ms/step - loss: 0.5063 - accuracy: 0.7461\n",
            "Epoch 93/150\n",
            "77/77 [==============================] - 0s 3ms/step - loss: 0.5127 - accuracy: 0.7591\n",
            "Epoch 94/150\n",
            "77/77 [==============================] - 0s 3ms/step - loss: 0.5045 - accuracy: 0.7513\n",
            "Epoch 95/150\n",
            "77/77 [==============================] - 0s 3ms/step - loss: 0.5015 - accuracy: 0.7682\n",
            "Epoch 96/150\n",
            "77/77 [==============================] - 0s 3ms/step - loss: 0.5033 - accuracy: 0.7526\n",
            "Epoch 97/150\n",
            "77/77 [==============================] - 0s 3ms/step - loss: 0.5170 - accuracy: 0.7513\n",
            "Epoch 98/150\n",
            "77/77 [==============================] - 0s 3ms/step - loss: 0.5065 - accuracy: 0.7565\n",
            "Epoch 99/150\n",
            "77/77 [==============================] - 0s 3ms/step - loss: 0.5020 - accuracy: 0.7591\n",
            "Epoch 100/150\n",
            "77/77 [==============================] - 0s 3ms/step - loss: 0.5052 - accuracy: 0.7578\n",
            "Epoch 101/150\n",
            "77/77 [==============================] - 0s 3ms/step - loss: 0.4969 - accuracy: 0.7721\n",
            "Epoch 102/150\n",
            "77/77 [==============================] - 0s 3ms/step - loss: 0.5089 - accuracy: 0.7500\n",
            "Epoch 103/150\n",
            "77/77 [==============================] - 0s 3ms/step - loss: 0.5011 - accuracy: 0.7539\n",
            "Epoch 104/150\n",
            "77/77 [==============================] - 0s 3ms/step - loss: 0.4996 - accuracy: 0.7500\n",
            "Epoch 105/150\n",
            "77/77 [==============================] - 0s 3ms/step - loss: 0.4999 - accuracy: 0.7630\n",
            "Epoch 106/150\n",
            "77/77 [==============================] - 0s 3ms/step - loss: 0.5005 - accuracy: 0.7500\n",
            "Epoch 107/150\n",
            "77/77 [==============================] - 0s 3ms/step - loss: 0.4971 - accuracy: 0.7526\n",
            "Epoch 108/150\n",
            "77/77 [==============================] - 0s 3ms/step - loss: 0.5140 - accuracy: 0.7578\n",
            "Epoch 109/150\n",
            "77/77 [==============================] - 0s 3ms/step - loss: 0.4988 - accuracy: 0.7435\n",
            "Epoch 110/150\n",
            "77/77 [==============================] - 0s 3ms/step - loss: 0.4934 - accuracy: 0.7734\n",
            "Epoch 111/150\n",
            "77/77 [==============================] - 0s 3ms/step - loss: 0.4976 - accuracy: 0.7461\n",
            "Epoch 112/150\n",
            "77/77 [==============================] - 0s 3ms/step - loss: 0.4950 - accuracy: 0.7643\n",
            "Epoch 113/150\n",
            "77/77 [==============================] - 0s 3ms/step - loss: 0.5042 - accuracy: 0.7591\n",
            "Epoch 114/150\n",
            "77/77 [==============================] - 0s 3ms/step - loss: 0.4994 - accuracy: 0.7500\n",
            "Epoch 115/150\n",
            "77/77 [==============================] - 0s 3ms/step - loss: 0.4907 - accuracy: 0.7695\n",
            "Epoch 116/150\n",
            "77/77 [==============================] - 0s 3ms/step - loss: 0.4871 - accuracy: 0.7552\n",
            "Epoch 117/150\n",
            "77/77 [==============================] - 0s 3ms/step - loss: 0.5027 - accuracy: 0.7565\n",
            "Epoch 118/150\n",
            "77/77 [==============================] - 0s 3ms/step - loss: 0.4903 - accuracy: 0.7552\n",
            "Epoch 119/150\n",
            "77/77 [==============================] - 0s 3ms/step - loss: 0.4903 - accuracy: 0.7617\n",
            "Epoch 120/150\n",
            "77/77 [==============================] - 0s 3ms/step - loss: 0.4922 - accuracy: 0.7708\n",
            "Epoch 121/150\n",
            "77/77 [==============================] - 0s 3ms/step - loss: 0.4871 - accuracy: 0.7630\n",
            "Epoch 122/150\n",
            "77/77 [==============================] - 0s 3ms/step - loss: 0.4886 - accuracy: 0.7682\n",
            "Epoch 123/150\n",
            "77/77 [==============================] - 0s 3ms/step - loss: 0.4965 - accuracy: 0.7734\n",
            "Epoch 124/150\n",
            "77/77 [==============================] - 0s 3ms/step - loss: 0.4843 - accuracy: 0.7852\n",
            "Epoch 125/150\n",
            "77/77 [==============================] - 0s 3ms/step - loss: 0.4883 - accuracy: 0.7656\n",
            "Epoch 126/150\n",
            "77/77 [==============================] - 0s 3ms/step - loss: 0.4879 - accuracy: 0.7565\n",
            "Epoch 127/150\n",
            "77/77 [==============================] - 0s 3ms/step - loss: 0.4889 - accuracy: 0.7708\n",
            "Epoch 128/150\n",
            "77/77 [==============================] - 0s 3ms/step - loss: 0.4878 - accuracy: 0.7747\n",
            "Epoch 129/150\n",
            "77/77 [==============================] - 0s 3ms/step - loss: 0.4951 - accuracy: 0.7552\n",
            "Epoch 130/150\n",
            "77/77 [==============================] - 0s 3ms/step - loss: 0.4934 - accuracy: 0.7630\n",
            "Epoch 131/150\n",
            "77/77 [==============================] - 0s 3ms/step - loss: 0.4841 - accuracy: 0.7630\n",
            "Epoch 132/150\n",
            "77/77 [==============================] - 0s 3ms/step - loss: 0.4804 - accuracy: 0.7747\n",
            "Epoch 133/150\n",
            "77/77 [==============================] - 0s 3ms/step - loss: 0.4764 - accuracy: 0.7839\n",
            "Epoch 134/150\n",
            "77/77 [==============================] - 0s 3ms/step - loss: 0.4775 - accuracy: 0.7721\n",
            "Epoch 135/150\n",
            "77/77 [==============================] - 0s 3ms/step - loss: 0.4880 - accuracy: 0.7734\n",
            "Epoch 136/150\n",
            "77/77 [==============================] - 0s 3ms/step - loss: 0.4781 - accuracy: 0.7669\n",
            "Epoch 137/150\n",
            "77/77 [==============================] - 0s 3ms/step - loss: 0.4848 - accuracy: 0.7773\n",
            "Epoch 138/150\n",
            "77/77 [==============================] - 0s 3ms/step - loss: 0.4861 - accuracy: 0.7682\n",
            "Epoch 139/150\n",
            "77/77 [==============================] - 0s 3ms/step - loss: 0.4793 - accuracy: 0.7799\n",
            "Epoch 140/150\n",
            "77/77 [==============================] - 0s 3ms/step - loss: 0.4763 - accuracy: 0.7734\n",
            "Epoch 141/150\n",
            "77/77 [==============================] - 0s 3ms/step - loss: 0.4706 - accuracy: 0.7630\n",
            "Epoch 142/150\n",
            "77/77 [==============================] - 0s 3ms/step - loss: 0.4854 - accuracy: 0.7721\n",
            "Epoch 143/150\n",
            "77/77 [==============================] - 0s 3ms/step - loss: 0.4781 - accuracy: 0.7656\n",
            "Epoch 144/150\n",
            "77/77 [==============================] - 0s 3ms/step - loss: 0.4799 - accuracy: 0.7682\n",
            "Epoch 145/150\n",
            "77/77 [==============================] - 0s 3ms/step - loss: 0.4798 - accuracy: 0.7878\n",
            "Epoch 146/150\n",
            "77/77 [==============================] - 0s 3ms/step - loss: 0.4766 - accuracy: 0.7786\n",
            "Epoch 147/150\n",
            "77/77 [==============================] - 0s 3ms/step - loss: 0.4671 - accuracy: 0.7760\n",
            "Epoch 148/150\n",
            "77/77 [==============================] - 0s 3ms/step - loss: 0.4714 - accuracy: 0.7799\n",
            "Epoch 149/150\n",
            "77/77 [==============================] - 0s 3ms/step - loss: 0.4670 - accuracy: 0.7747\n",
            "Epoch 150/150\n",
            "77/77 [==============================] - 0s 3ms/step - loss: 0.4768 - accuracy: 0.7747\n"
          ]
        },
        {
          "output_type": "execute_result",
          "data": {
            "text/plain": [
              "<keras.callbacks.History at 0x7f640e36e290>"
            ]
          },
          "metadata": {},
          "execution_count": 7
        }
      ]
    },
    {
      "cell_type": "code",
      "source": [
        "# evaluate the keras model\n",
        "_, accuracy = model.evaluate(X, y)\n",
        "print('Accuracy: %.2f' % (accuracy*100))"
      ],
      "metadata": {
        "colab": {
          "base_uri": "https://localhost:8080/"
        },
        "id": "0tRmfsTpzn0A",
        "outputId": "b8d9bceb-1d51-4cd2-f987-3b18ab6bda3c"
      },
      "execution_count": null,
      "outputs": [
        {
          "output_type": "stream",
          "name": "stdout",
          "text": [
            "24/24 [==============================] - 0s 2ms/step - loss: 0.4587 - accuracy: 0.7891\n",
            "Accuracy: 78.91\n"
          ]
        }
      ]
    },
    {
      "cell_type": "code",
      "source": [
        "# make class predictions with the model\n",
        "predictions = (model.predict(X) > 0.5).astype(int)\n",
        "# summarize the first 5 cases\n",
        "for i in range(5):\n",
        "\tprint('%s => %d (expected %d)' % (X[i].tolist(), predictions[i], y[i]))"
      ],
      "metadata": {
        "colab": {
          "base_uri": "https://localhost:8080/"
        },
        "id": "vVenJysKz6-P",
        "outputId": "56fdb03c-afc9-440d-c6a7-2a2f7a927bb9"
      },
      "execution_count": null,
      "outputs": [
        {
          "output_type": "stream",
          "name": "stdout",
          "text": [
            "[6.0, 148.0, 72.0, 35.0, 0.0, 33.6, 0.627, 50.0] => 1 (expected 1)\n",
            "[1.0, 85.0, 66.0, 29.0, 0.0, 26.6, 0.351, 31.0] => 0 (expected 0)\n",
            "[8.0, 183.0, 64.0, 0.0, 0.0, 23.3, 0.672, 32.0] => 1 (expected 1)\n",
            "[1.0, 89.0, 66.0, 23.0, 94.0, 28.1, 0.167, 21.0] => 0 (expected 0)\n",
            "[0.0, 137.0, 40.0, 35.0, 168.0, 43.1, 2.288, 33.0] => 1 (expected 1)\n"
          ]
        }
      ]
    },
    {
      "cell_type": "code",
      "source": [
        "# run the test harness for evaluating a model\n",
        "def run_test_harness():\n",
        "\t# load dataset\n",
        "\ttrainX, trainY, testX, testY = load_dataset()\n",
        "\t# prepare pixel data\n",
        "\ttrainX, testX = prep_pixels(trainX, testX)\n",
        "\t# evaluate model\n",
        "\tscores, histories = evaluate_model(trainX, trainY)\n",
        "\t# learning curves\n",
        "\tsummarize_diagnostics(histories)\n",
        "\t# summarize estimated performance\n",
        "\tsummarize_performance(scores)"
      ],
      "metadata": {
        "id": "J1zyGimG099P"
      },
      "execution_count": null,
      "outputs": []
    },
    {
      "cell_type": "code",
      "source": [
        "import numpy as np # We'll be storing our data as numpy arrays\n",
        "import os # For handling directories\n",
        "from PIL import Image # For handling the images\n",
        "import matplotlib.pyplot as plt\n",
        "import matplotlib.image as mpimg # Plotting"
      ],
      "metadata": {
        "id": "ALsnRWnH3XHS"
      },
      "execution_count": null,
      "outputs": []
    },
    {
      "cell_type": "code",
      "source": [
        "lookup = dict()\n",
        "reverselookup = dict()\n",
        "count = 0\n",
        "for j in os.listdir('../input/leapgestrecog/leapGestRecog/00/'):\n",
        "    if not j.startswith('.'): # If running this code locally, this is to \n",
        "                              # ensure you aren't reading in hidden folders\n",
        "        lookup[j] = count\n",
        "        reverselookup[count] = j\n",
        "        count = count + 1\n",
        "lookup"
      ],
      "metadata": {
        "colab": {
          "base_uri": "https://localhost:8080/",
          "height": 235
        },
        "id": "D1IHEbjA5216",
        "outputId": "e906a3b7-8d19-4bec-8565-7d1110bd7784"
      },
      "execution_count": null,
      "outputs": [
        {
          "output_type": "error",
          "ename": "FileNotFoundError",
          "evalue": "ignored",
          "traceback": [
            "\u001b[0;31m---------------------------------------------------------------------------\u001b[0m",
            "\u001b[0;31mFileNotFoundError\u001b[0m                         Traceback (most recent call last)",
            "\u001b[0;32m<ipython-input-21-97ef55d93ba4>\u001b[0m in \u001b[0;36m<module>\u001b[0;34m\u001b[0m\n\u001b[1;32m      2\u001b[0m \u001b[0mreverselookup\u001b[0m \u001b[0;34m=\u001b[0m \u001b[0mdict\u001b[0m\u001b[0;34m(\u001b[0m\u001b[0;34m)\u001b[0m\u001b[0;34m\u001b[0m\u001b[0;34m\u001b[0m\u001b[0m\n\u001b[1;32m      3\u001b[0m \u001b[0mcount\u001b[0m \u001b[0;34m=\u001b[0m \u001b[0;36m0\u001b[0m\u001b[0;34m\u001b[0m\u001b[0;34m\u001b[0m\u001b[0m\n\u001b[0;32m----> 4\u001b[0;31m \u001b[0;32mfor\u001b[0m \u001b[0mj\u001b[0m \u001b[0;32min\u001b[0m \u001b[0mos\u001b[0m\u001b[0;34m.\u001b[0m\u001b[0mlistdir\u001b[0m\u001b[0;34m(\u001b[0m\u001b[0;34m'../input/leapgestrecog/leapGestRecog/00/'\u001b[0m\u001b[0;34m)\u001b[0m\u001b[0;34m:\u001b[0m\u001b[0;34m\u001b[0m\u001b[0;34m\u001b[0m\u001b[0m\n\u001b[0m\u001b[1;32m      5\u001b[0m     \u001b[0;32mif\u001b[0m \u001b[0;32mnot\u001b[0m \u001b[0mj\u001b[0m\u001b[0;34m.\u001b[0m\u001b[0mstartswith\u001b[0m\u001b[0;34m(\u001b[0m\u001b[0;34m'.'\u001b[0m\u001b[0;34m)\u001b[0m\u001b[0;34m:\u001b[0m \u001b[0;31m# If running this code locally, this is to\u001b[0m\u001b[0;34m\u001b[0m\u001b[0;34m\u001b[0m\u001b[0m\n\u001b[1;32m      6\u001b[0m                               \u001b[0;31m# ensure you aren't reading in hidden folders\u001b[0m\u001b[0;34m\u001b[0m\u001b[0;34m\u001b[0m\u001b[0;34m\u001b[0m\u001b[0m\n",
            "\u001b[0;31mFileNotFoundError\u001b[0m: [Errno 2] No such file or directory: '../input/leapgestrecog/leapGestRecog/00/'"
          ]
        }
      ]
    },
    {
      "cell_type": "code",
      "source": [],
      "metadata": {
        "colab": {
          "base_uri": "https://localhost:8080/",
          "height": 397
        },
        "id": "pIunntWx57pQ",
        "outputId": "8154cdb5-aa9e-4f41-e2c1-d70b17958177"
      },
      "execution_count": null,
      "outputs": [
        {
          "output_type": "error",
          "ename": "FileNotFoundError",
          "evalue": "ignored",
          "traceback": [
            "\u001b[0;31m---------------------------------------------------------------------------\u001b[0m",
            "\u001b[0;31mFileNotFoundError\u001b[0m                         Traceback (most recent call last)",
            "\u001b[0;32m<ipython-input-16-583c77281626>\u001b[0m in \u001b[0;36m<module>\u001b[0;34m\u001b[0m\n\u001b[1;32m      4\u001b[0m     \u001b[0mbatch_size\u001b[0m\u001b[0;34m=\u001b[0m\u001b[0;36m32\u001b[0m\u001b[0;34m,\u001b[0m\u001b[0;34m\u001b[0m\u001b[0;34m\u001b[0m\u001b[0m\n\u001b[1;32m      5\u001b[0m     \u001b[0mclass_mode\u001b[0m\u001b[0;34m=\u001b[0m\u001b[0;34m'categorical'\u001b[0m\u001b[0;34m,\u001b[0m\u001b[0;34m\u001b[0m\u001b[0;34m\u001b[0m\u001b[0m\n\u001b[0;32m----> 6\u001b[0;31m     subset='training') # set as training data\n\u001b[0m\u001b[1;32m      7\u001b[0m \u001b[0;34m\u001b[0m\u001b[0m\n\u001b[1;32m      8\u001b[0m val_ds = datagen.flow_from_directory(\n",
            "\u001b[0;32m/usr/local/lib/python3.7/dist-packages/keras/preprocessing/image.py\u001b[0m in \u001b[0;36mflow_from_directory\u001b[0;34m(self, directory, target_size, color_mode, classes, class_mode, batch_size, shuffle, seed, save_to_dir, save_prefix, save_format, follow_links, subset, interpolation)\u001b[0m\n\u001b[1;32m    990\u001b[0m         \u001b[0mfollow_links\u001b[0m\u001b[0;34m=\u001b[0m\u001b[0mfollow_links\u001b[0m\u001b[0;34m,\u001b[0m\u001b[0;34m\u001b[0m\u001b[0;34m\u001b[0m\u001b[0m\n\u001b[1;32m    991\u001b[0m         \u001b[0msubset\u001b[0m\u001b[0;34m=\u001b[0m\u001b[0msubset\u001b[0m\u001b[0;34m,\u001b[0m\u001b[0;34m\u001b[0m\u001b[0;34m\u001b[0m\u001b[0m\n\u001b[0;32m--> 992\u001b[0;31m         interpolation=interpolation)\n\u001b[0m\u001b[1;32m    993\u001b[0m \u001b[0;34m\u001b[0m\u001b[0m\n\u001b[1;32m    994\u001b[0m   def flow_from_dataframe(self,\n",
            "\u001b[0;32m/usr/local/lib/python3.7/dist-packages/keras/preprocessing/image.py\u001b[0m in \u001b[0;36m__init__\u001b[0;34m(self, directory, image_data_generator, target_size, color_mode, classes, class_mode, batch_size, shuffle, seed, data_format, save_to_dir, save_prefix, save_format, follow_links, subset, interpolation, dtype)\u001b[0m\n\u001b[1;32m    408\u001b[0m         \u001b[0msubset\u001b[0m\u001b[0;34m=\u001b[0m\u001b[0msubset\u001b[0m\u001b[0;34m,\u001b[0m\u001b[0;34m\u001b[0m\u001b[0;34m\u001b[0m\u001b[0m\n\u001b[1;32m    409\u001b[0m         \u001b[0minterpolation\u001b[0m\u001b[0;34m=\u001b[0m\u001b[0minterpolation\u001b[0m\u001b[0;34m,\u001b[0m\u001b[0;34m\u001b[0m\u001b[0;34m\u001b[0m\u001b[0m\n\u001b[0;32m--> 410\u001b[0;31m         **kwargs)\n\u001b[0m\u001b[1;32m    411\u001b[0m \u001b[0;34m\u001b[0m\u001b[0m\n\u001b[1;32m    412\u001b[0m \u001b[0;34m\u001b[0m\u001b[0m\n",
            "\u001b[0;32m/usr/local/lib/python3.7/dist-packages/keras_preprocessing/image/directory_iterator.py\u001b[0m in \u001b[0;36m__init__\u001b[0;34m(self, directory, image_data_generator, target_size, color_mode, classes, class_mode, batch_size, shuffle, seed, data_format, save_to_dir, save_prefix, save_format, follow_links, subset, interpolation, dtype)\u001b[0m\n\u001b[1;32m    113\u001b[0m         \u001b[0;32mif\u001b[0m \u001b[0;32mnot\u001b[0m \u001b[0mclasses\u001b[0m\u001b[0;34m:\u001b[0m\u001b[0;34m\u001b[0m\u001b[0;34m\u001b[0m\u001b[0m\n\u001b[1;32m    114\u001b[0m             \u001b[0mclasses\u001b[0m \u001b[0;34m=\u001b[0m \u001b[0;34m[\u001b[0m\u001b[0;34m]\u001b[0m\u001b[0;34m\u001b[0m\u001b[0;34m\u001b[0m\u001b[0m\n\u001b[0;32m--> 115\u001b[0;31m             \u001b[0;32mfor\u001b[0m \u001b[0msubdir\u001b[0m \u001b[0;32min\u001b[0m \u001b[0msorted\u001b[0m\u001b[0;34m(\u001b[0m\u001b[0mos\u001b[0m\u001b[0;34m.\u001b[0m\u001b[0mlistdir\u001b[0m\u001b[0;34m(\u001b[0m\u001b[0mdirectory\u001b[0m\u001b[0;34m)\u001b[0m\u001b[0;34m)\u001b[0m\u001b[0;34m:\u001b[0m\u001b[0;34m\u001b[0m\u001b[0;34m\u001b[0m\u001b[0m\n\u001b[0m\u001b[1;32m    116\u001b[0m                 \u001b[0;32mif\u001b[0m \u001b[0mos\u001b[0m\u001b[0;34m.\u001b[0m\u001b[0mpath\u001b[0m\u001b[0;34m.\u001b[0m\u001b[0misdir\u001b[0m\u001b[0;34m(\u001b[0m\u001b[0mos\u001b[0m\u001b[0;34m.\u001b[0m\u001b[0mpath\u001b[0m\u001b[0;34m.\u001b[0m\u001b[0mjoin\u001b[0m\u001b[0;34m(\u001b[0m\u001b[0mdirectory\u001b[0m\u001b[0;34m,\u001b[0m \u001b[0msubdir\u001b[0m\u001b[0;34m)\u001b[0m\u001b[0;34m)\u001b[0m\u001b[0;34m:\u001b[0m\u001b[0;34m\u001b[0m\u001b[0;34m\u001b[0m\u001b[0m\n\u001b[1;32m    117\u001b[0m                     \u001b[0mclasses\u001b[0m\u001b[0;34m.\u001b[0m\u001b[0mappend\u001b[0m\u001b[0;34m(\u001b[0m\u001b[0msubdir\u001b[0m\u001b[0;34m)\u001b[0m\u001b[0;34m\u001b[0m\u001b[0;34m\u001b[0m\u001b[0m\n",
            "\u001b[0;31mFileNotFoundError\u001b[0m: [Errno 2] No such file or directory: '../input/weather-dataset/dataset'"
          ]
        }
      ]
    }
  ]
}